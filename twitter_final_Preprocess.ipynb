{
 "cells": [
  {
   "cell_type": "code",
   "execution_count": 16,
   "id": "f4a12978-161c-4805-9fff-58bb1b4719ae",
   "metadata": {},
   "outputs": [],
   "source": [
    "import pandas as pd\n",
    "\n",
    "# Load the dataset\n",
    "file_path = r\"C:\\Users\\New\\Desktop\\Semester\\Projects\\A_rta_Project\\superbowl_tweets.csv\"\n",
    "df = pd.read_csv(file_path)\n",
    "\n"
   ]
  },
  {
   "cell_type": "code",
   "execution_count": 18,
   "id": "61ecbf31-0529-4059-b9de-93622765c806",
   "metadata": {},
   "outputs": [
    {
     "name": "stdout",
     "output_type": "stream",
     "text": [
      "<class 'pandas.core.frame.DataFrame'>\n",
      "RangeIndex: 198 entries, 0 to 197\n",
      "Data columns (total 11 columns):\n",
      " #   Column       Non-Null Count  Dtype \n",
      "---  ------       --------------  ----- \n",
      " 0   user_posted  197 non-null    object\n",
      " 1   date_posted  188 non-null    object\n",
      " 2   description  197 non-null    object\n",
      " 3   views        198 non-null    object\n",
      " 4   replies      38 non-null     object\n",
      " 5   reposts      39 non-null     object\n",
      " 6   likes        107 non-null    object\n",
      " 7   hashtags     188 non-null    object\n",
      " 8   is_verified  198 non-null    bool  \n",
      " 9   photos       196 non-null    object\n",
      " 10  url          198 non-null    object\n",
      "dtypes: bool(1), object(10)\n",
      "memory usage: 15.8+ KB\n",
      "None\n"
     ]
    }
   ],
   "source": [
    "print(df.info())  # Data types and non-null counts"
   ]
  },
  {
   "cell_type": "code",
   "execution_count": 20,
   "id": "10b511ae-4f49-48fa-976f-db19bca086c4",
   "metadata": {},
   "outputs": [
    {
     "name": "stdout",
     "output_type": "stream",
     "text": [
      "           user_posted               date_posted  \\\n",
      "count              197                       188   \n",
      "unique             165                       184   \n",
      "top     @COMBATWEATHER  2025-02-15T01:05:31.000Z   \n",
      "freq                11                         2   \n",
      "\n",
      "                                              description  \\\n",
      "count                                                 197   \n",
      "unique                                                194   \n",
      "top     https://x.com/kittyinforma/status/189080490313...   \n",
      "freq                                                    3   \n",
      "\n",
      "                                views replies reposts likes       hashtags  \\\n",
      "count                             198      38      39   107            188   \n",
      "unique                            144      13      15    21            138   \n",
      "top     61 views. View post analytics       1       1     1  #SuperBowlLIX   \n",
      "freq                                5      21      16    56             32   \n",
      "\n",
      "       is_verified                                             photos  \\\n",
      "count          198                                                196   \n",
      "unique           1                                                193   \n",
      "top          False  https://pbs.twimg.com/profile_images/188791971...   \n",
      "freq           198                                                  4   \n",
      "\n",
      "                                                      url  \n",
      "count                                                 198  \n",
      "unique                                                  1  \n",
      "top     https://twitter.com/search?q=#superbowl&src=ty...  \n",
      "freq                                                  198  \n"
     ]
    }
   ],
   "source": [
    "print(df.describe())  # Summary statistics"
   ]
  },
  {
   "cell_type": "code",
   "execution_count": 22,
   "id": "18716256-f6f3-4732-beeb-4185a046c216",
   "metadata": {},
   "outputs": [
    {
     "name": "stdout",
     "output_type": "stream",
     "text": [
      "user_posted      1\n",
      "date_posted     10\n",
      "description      1\n",
      "views            0\n",
      "replies        160\n",
      "reposts        159\n",
      "likes           91\n",
      "hashtags        10\n",
      "is_verified      0\n",
      "photos           2\n",
      "url              0\n",
      "dtype: int64\n"
     ]
    }
   ],
   "source": [
    "print(df.isnull().sum())\n"
   ]
  },
  {
   "cell_type": "code",
   "execution_count": 24,
   "id": "73346524-c58a-46bd-8a18-12c166460bb0",
   "metadata": {},
   "outputs": [],
   "source": [
    "df['is_verified'] = df['is_verified'].astype(bool)\n"
   ]
  },
  {
   "cell_type": "code",
   "execution_count": 26,
   "id": "3fc62537-ccda-49c1-b780-157892733883",
   "metadata": {},
   "outputs": [],
   "source": [
    "# Extract numerical count using str.extract()\n",
    "df['views_count'] = df['views'].str.extract(r'(\\d+)')\n",
    "\n",
    "# Convert to numeric safely\n",
    "df['views_count'] = pd.to_numeric(df['views_count'], errors='coerce')\n",
    "\n",
    "# Handle NaN values (choose one based on your needs)\n",
    "# Option 1: Drop rows with NaN\n",
    "\n",
    "\n",
    "# Option 2: Fill NaN with 0 (or another default value)\n",
    "df['views_count'] = df['views_count'].fillna(0)\n",
    "\n",
    "# Convert to integer after handling NaN\n",
    "df['views_count'] = df['views_count'].astype(int)\n",
    "\n"
   ]
  },
  {
   "cell_type": "code",
   "execution_count": 28,
   "id": "64452866-bb93-4bd6-9b34-f776c596e4ae",
   "metadata": {},
   "outputs": [
    {
     "name": "stdout",
     "output_type": "stream",
     "text": [
      "<class 'pandas.core.frame.DataFrame'>\n",
      "RangeIndex: 198 entries, 0 to 197\n",
      "Data columns (total 12 columns):\n",
      " #   Column       Non-Null Count  Dtype \n",
      "---  ------       --------------  ----- \n",
      " 0   user_posted  197 non-null    object\n",
      " 1   date_posted  188 non-null    object\n",
      " 2   description  197 non-null    object\n",
      " 3   views        198 non-null    object\n",
      " 4   replies      38 non-null     object\n",
      " 5   reposts      39 non-null     object\n",
      " 6   likes        107 non-null    object\n",
      " 7   hashtags     188 non-null    object\n",
      " 8   is_verified  198 non-null    bool  \n",
      " 9   photos       196 non-null    object\n",
      " 10  url          198 non-null    object\n",
      " 11  views_count  198 non-null    int32 \n",
      "dtypes: bool(1), int32(1), object(10)\n",
      "memory usage: 16.6+ KB\n",
      "None\n"
     ]
    }
   ],
   "source": [
    "print(df.info())  "
   ]
  },
  {
   "cell_type": "code",
   "execution_count": 30,
   "id": "cecbe032-ac95-474b-a3f9-896fa09ae0db",
   "metadata": {},
   "outputs": [
    {
     "name": "stdout",
     "output_type": "stream",
     "text": [
      "user_posted      1\n",
      "date_posted     10\n",
      "description      1\n",
      "views            0\n",
      "replies        160\n",
      "reposts        159\n",
      "likes           91\n",
      "hashtags        10\n",
      "is_verified      0\n",
      "photos           2\n",
      "url              0\n",
      "views_count      0\n",
      "dtype: int64\n"
     ]
    }
   ],
   "source": [
    "print(df.isnull().sum())"
   ]
  },
  {
   "cell_type": "code",
   "execution_count": 32,
   "id": "10a57e6a-c783-42c8-9496-7e01d3474fb1",
   "metadata": {},
   "outputs": [],
   "source": [
    "df = df.drop(columns=['views'])\n"
   ]
  },
  {
   "cell_type": "code",
   "execution_count": 34,
   "id": "959137d0-c448-452b-bde1-c114d4d0ac49",
   "metadata": {},
   "outputs": [
    {
     "name": "stdout",
     "output_type": "stream",
     "text": [
      "<class 'pandas.core.frame.DataFrame'>\n",
      "RangeIndex: 198 entries, 0 to 197\n",
      "Data columns (total 11 columns):\n",
      " #   Column       Non-Null Count  Dtype \n",
      "---  ------       --------------  ----- \n",
      " 0   user_posted  197 non-null    object\n",
      " 1   date_posted  188 non-null    object\n",
      " 2   description  197 non-null    object\n",
      " 3   replies      38 non-null     object\n",
      " 4   reposts      39 non-null     object\n",
      " 5   likes        107 non-null    object\n",
      " 6   hashtags     188 non-null    object\n",
      " 7   is_verified  198 non-null    bool  \n",
      " 8   photos       196 non-null    object\n",
      " 9   url          198 non-null    object\n",
      " 10  views        198 non-null    int32 \n",
      "dtypes: bool(1), int32(1), object(9)\n",
      "memory usage: 15.0+ KB\n",
      "None\n"
     ]
    }
   ],
   "source": [
    "# Rename specific columns in-place\n",
    "df.rename(columns={'views_count': 'views'}, inplace=True)\n",
    "\n",
    "print(df.info()) "
   ]
  },
  {
   "cell_type": "code",
   "execution_count": 36,
   "id": "07398344-7724-44c1-8f6a-3be97a183fa3",
   "metadata": {},
   "outputs": [
    {
     "name": "stdout",
     "output_type": "stream",
     "text": [
      "              views\n",
      "count  1.980000e+02\n",
      "mean   1.230736e+06\n",
      "std    1.152421e+07\n",
      "min    0.000000e+00\n",
      "25%    2.800000e+01\n",
      "50%    6.700000e+01\n",
      "75%    1.980000e+02\n",
      "max    1.349356e+08\n"
     ]
    }
   ],
   "source": [
    "print(df.describe())"
   ]
  },
  {
   "cell_type": "code",
   "execution_count": 38,
   "id": "ea08d7fc-a1be-4318-90b2-f3eb74c03ed7",
   "metadata": {},
   "outputs": [],
   "source": [
    "df['replies'] = df['replies'].fillna(0)  # Fill with a default value\n",
    "df['reposts'] = df['reposts'].fillna(0)\n",
    "df['likes'] = df['likes'].fillna(0)\n",
    "df['views'] = df['views'].fillna(0)"
   ]
  },
  {
   "cell_type": "code",
   "execution_count": 40,
   "id": "253b83ad-7652-46a6-8d22-6dd455b22e86",
   "metadata": {},
   "outputs": [
    {
     "name": "stdout",
     "output_type": "stream",
     "text": [
      "              views\n",
      "count  1.980000e+02\n",
      "mean   1.230736e+06\n",
      "std    1.152421e+07\n",
      "min    0.000000e+00\n",
      "25%    2.800000e+01\n",
      "50%    6.700000e+01\n",
      "75%    1.980000e+02\n",
      "max    1.349356e+08\n"
     ]
    }
   ],
   "source": [
    "print(df.describe())"
   ]
  },
  {
   "cell_type": "code",
   "execution_count": 42,
   "id": "27f2960a-15e1-4e0d-b6f5-f7372e601235",
   "metadata": {},
   "outputs": [
    {
     "name": "stdout",
     "output_type": "stream",
     "text": [
      "user_posted     1\n",
      "date_posted    10\n",
      "description     1\n",
      "replies         0\n",
      "reposts         0\n",
      "likes           0\n",
      "hashtags       10\n",
      "is_verified     0\n",
      "photos          2\n",
      "url             0\n",
      "views           0\n",
      "dtype: int64\n"
     ]
    }
   ],
   "source": [
    "print(df.isnull().sum())"
   ]
  },
  {
   "cell_type": "code",
   "execution_count": 44,
   "id": "e09f88ee-57c3-432b-a5b5-12e047113d25",
   "metadata": {},
   "outputs": [],
   "source": [
    "df.to_csv('cleaned_data_twitter.csv', index=False)\n"
   ]
  },
  {
   "cell_type": "code",
   "execution_count": null,
   "id": "2ca8392d-409c-43b2-a317-716952f0d9e8",
   "metadata": {},
   "outputs": [],
   "source": []
  }
 ],
 "metadata": {
  "kernelspec": {
   "display_name": "Python 3 (ipykernel)",
   "language": "python",
   "name": "python3"
  },
  "language_info": {
   "codemirror_mode": {
    "name": "ipython",
    "version": 3
   },
   "file_extension": ".py",
   "mimetype": "text/x-python",
   "name": "python",
   "nbconvert_exporter": "python",
   "pygments_lexer": "ipython3",
   "version": "3.11.7"
  }
 },
 "nbformat": 4,
 "nbformat_minor": 5
}
